{
 "cells": [
  {
   "cell_type": "markdown",
   "metadata": {},
   "source": [
    "<h1>Linear Algebra (CpE210A)"
   ]
  },
  {
   "cell_type": "markdown",
   "metadata": {},
   "source": [
    "<h3> Laboratory 7 : Matrix Operations"
   ]
  },
  {
   "cell_type": "markdown",
   "metadata": {},
   "source": [
    "<h5>Coded and submitted by:<i>\n",
    "<h6>Nietes,Ralf Joshua M.<i>\n",
    "<h5>201811752<i>\n",
    "<h5>58011<i>"
   ]
  },
  {
   "cell_type": "code",
   "execution_count": 1,
   "metadata": {},
   "outputs": [],
   "source": [
    "import numpy as np\n",
    "import matplotlib.pyplot as plt\n",
    "%matplotlib inline"
   ]
  },
  {
   "cell_type": "code",
   "execution_count": 67,
   "metadata": {},
   "outputs": [],
   "source": [
    "A = np.array([\n",
    "    [12,22,11],\n",
    "    [4,15,6],\n",
    "    [7,1,10]\n",
    "])\n",
    "B = np.array([\n",
    "    [12,21,6],\n",
    "    [8,5,9],\n",
    "    [8,9,8]\n",
    "])\n",
    "C = np.array([\n",
    "    [10,8,6],\n",
    "    [20,17,12],\n",
    "    [11,21,13]\n",
    "])"
   ]
  },
  {
   "cell_type": "markdown",
   "metadata": {},
   "source": [
    "<h4>Matrix Multiplication is not Commutative:$A \\cdot B \\neq B \\cdot A$"
   ]
  },
  {
   "cell_type": "code",
   "execution_count": 68,
   "metadata": {
    "scrolled": true
   },
   "outputs": [
    {
     "name": "stdout",
     "output_type": "stream",
     "text": [
      "AxB=\n",
      " [[408 461 358]\n",
      " [216 213 207]\n",
      " [172 242 131]] \n",
      "\n",
      "BxA=\n",
      " [[270 585 318]\n",
      " [179 260 208]\n",
      " [188 319 222]]\n"
     ]
    },
    {
     "data": {
      "text/plain": [
       "False"
      ]
     },
     "execution_count": 68,
     "metadata": {},
     "output_type": "execute_result"
    }
   ],
   "source": [
    "A1=A@B\n",
    "A2=B@A\n",
    "print(\"AxB=\\n\",A1,\"\\n\\nBxA=\\n\",A2)\n",
    "np.array_equiv(A1,A2)"
   ]
  },
  {
   "cell_type": "markdown",
   "metadata": {},
   "source": [
    "<h4>Associative property of multiplication:\n",
    "     $A \\cdot (B \\cdot C) = (A \\cdot B) \\cdot C$"
   ]
  },
  {
   "cell_type": "code",
   "execution_count": 69,
   "metadata": {},
   "outputs": [
    {
     "name": "stdout",
     "output_type": "stream",
     "text": [
      "Ax(BXC)=\n",
      " [[17238 18619 12634]\n",
      " [ 8697  9696  6543]\n",
      " [ 8001  8241  5639]] \n",
      "\n",
      "(AxB)xC=\n",
      " [[17238 18619 12634]\n",
      " [ 8697  9696  6543]\n",
      " [ 8001  8241  5639]]\n"
     ]
    },
    {
     "data": {
      "text/plain": [
       "True"
      ]
     },
     "execution_count": 69,
     "metadata": {},
     "output_type": "execute_result"
    }
   ],
   "source": [
    "B1=A@(B@C)\n",
    "B2=(A@B)@C\n",
    "print(\"Ax(BXC)=\\n\",B1,\"\\n\\n(AxB)xC=\\n\",B2)\n",
    "np.array_equiv(B1,B2)"
   ]
  },
  {
   "cell_type": "markdown",
   "metadata": {},
   "source": [
    "<h4>Distributive properties:\n",
    "    $A\\cdot(B+C) = A\\cdot B + A\\cdot C$"
   ]
  },
  {
   "cell_type": "code",
   "execution_count": 70,
   "metadata": {},
   "outputs": [
    {
     "name": "stdout",
     "output_type": "stream",
     "text": [
      "Ax(B+C)=\n",
      " [[1089 1162  837]\n",
      " [ 622  626  489]\n",
      " [ 372  525  315]] \n",
      "\n",
      "(AxB)+(AxC)=\n",
      " [[1089 1162  837]\n",
      " [ 622  626  489]\n",
      " [ 372  525  315]]\n"
     ]
    },
    {
     "data": {
      "text/plain": [
       "True"
      ]
     },
     "execution_count": 70,
     "metadata": {},
     "output_type": "execute_result"
    }
   ],
   "source": [
    "C1=A@(B+C)\n",
    "C2=(A@B)+(A@C)\n",
    "print(\"Ax(B+C)=\\n\",C1,\"\\n\\n(AxB)+(AxC)=\\n\",C2)\n",
    "np.array_equiv(C1,C2)"
   ]
  },
  {
   "cell_type": "markdown",
   "metadata": {},
   "source": [
    "<h4>Distributive properties:\n",
    "    $(B+C)\\cdot A = B\\cdot A + C\\cdot A$"
   ]
  },
  {
   "cell_type": "code",
   "execution_count": 74,
   "metadata": {},
   "outputs": [
    {
     "name": "stdout",
     "output_type": "stream",
     "text": [
      "(B+C)xA=\n",
      " [[464 931 536]\n",
      " [571 967 650]\n",
      " [495 889 599]] \n",
      "\n",
      "(BxA)+(CxA)=\n",
      " [[464 931 536]\n",
      " [571 967 650]\n",
      " [495 889 599]]\n"
     ]
    },
    {
     "data": {
      "text/plain": [
       "True"
      ]
     },
     "execution_count": 74,
     "metadata": {},
     "output_type": "execute_result"
    }
   ],
   "source": [
    "D1=(B+C)@A\n",
    "D2=(B@A)+(C@A)\n",
    "print(\"(B+C)xA=\\n\",D1,\"\\n\\n(BxA)+(CxA)=\\n\",D2)\n",
    "np.array_equiv(D1,D2)"
   ]
  },
  {
   "cell_type": "markdown",
   "metadata": {},
   "source": [
    "<h4>Multiplicative identity property:\n",
    "    $A\\cdot I = A$"
   ]
  },
  {
   "cell_type": "code",
   "execution_count": 72,
   "metadata": {},
   "outputs": [
    {
     "name": "stdout",
     "output_type": "stream",
     "text": [
      "AxI=\n",
      " [[12. 22. 11.]\n",
      " [ 4. 15.  6.]\n",
      " [ 7.  1. 10.]] \n",
      "\n",
      "A=\n",
      " [[12 22 11]\n",
      " [ 4 15  6]\n",
      " [ 7  1 10]]\n"
     ]
    },
    {
     "data": {
      "text/plain": [
       "True"
      ]
     },
     "execution_count": 72,
     "metadata": {},
     "output_type": "execute_result"
    }
   ],
   "source": [
    "I = np.identity(3)\n",
    "E1 = A@I\n",
    "print(\"AxI=\\n\",E1,\"\\n\\nA=\\n\",A)\n",
    "np.array_equiv(A,E1)"
   ]
  },
  {
   "cell_type": "markdown",
   "metadata": {},
   "source": [
    "<h4>Multiplicative property of zero:\n",
    "    $A\\cdot \\emptyset = \\emptyset$ "
   ]
  },
  {
   "cell_type": "code",
   "execution_count": 73,
   "metadata": {},
   "outputs": [
    {
     "name": "stdout",
     "output_type": "stream",
     "text": [
      "Ax∅=\n",
      " [[0. 0. 0.]\n",
      " [0. 0. 0.]\n",
      " [0. 0. 0.]] \n",
      "\n",
      "∅=\n",
      " [[0. 0. 0.]\n",
      " [0. 0. 0.]\n",
      " [0. 0. 0.]]\n"
     ]
    },
    {
     "data": {
      "text/plain": [
       "True"
      ]
     },
     "execution_count": 73,
     "metadata": {},
     "output_type": "execute_result"
    }
   ],
   "source": [
    "zero_3 = np.zeros((3,3))\n",
    "F1 = A@zero_3\n",
    "print(\"Ax∅=\\n\",F1,\"\\n\\n∅=\\n\",zero_3)\n",
    "np.array_equiv(F1,zero_3) "
   ]
  }
 ],
 "metadata": {
  "kernelspec": {
   "display_name": "Python 3",
   "language": "python",
   "name": "python3"
  },
  "language_info": {
   "codemirror_mode": {
    "name": "ipython",
    "version": 3
   },
   "file_extension": ".py",
   "mimetype": "text/x-python",
   "name": "python",
   "nbconvert_exporter": "python",
   "pygments_lexer": "ipython3",
   "version": "3.8.3"
  }
 },
 "nbformat": 4,
 "nbformat_minor": 4
}
