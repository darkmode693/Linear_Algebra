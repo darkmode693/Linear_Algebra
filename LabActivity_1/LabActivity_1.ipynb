{
 "cells": [
  {
   "cell_type": "code",
   "execution_count": 1,
   "metadata": {},
   "outputs": [
    {
     "name": "stdout",
     "output_type": "stream",
     "text": [
      "Charmander at level 15\n",
      "Pidgey at level 11\n",
      "Sandshrew at level 18\n",
      "Rattata at level 5\n",
      "Abra at level 14\n"
     ]
    }
   ],
   "source": [
    "party = ['Charmander', 'Pidgey', 'Sandshrew', 'Rattata', 'Abra']\n",
    "levels = [15, 11, 18, 5, 14] \n",
    "for i in range(0, 5): \n",
    "   print(f\"{party[i]} at level {levels[i]}\")\n"
   ]
  },
  {
   "cell_type": "code",
   "execution_count": 13,
   "metadata": {},
   "outputs": [
    {
     "data": {
      "text/plain": [
       "['Dialga', 'Regigigas', 'Onix']"
      ]
     },
     "execution_count": 13,
     "metadata": {},
     "output_type": "execute_result"
    }
   ],
   "source": [
    ">>> reserves = [\n",
    "    ('Onix',10),\n",
    "    ('Slowpoke',18),\n",
    "    ('Dialga', 2),\n",
    "    ('Magikarp', 32),\n",
    "    ('Feebas', 22),\n",
    "    ('Swablu', 19),\n",
    "    ('Regigigas', 3),\n",
    "    ('Unown', 50)\n",
    "]\n",
    ">>> reserves.sort()\n",
    ">>> reserves\n",
    ">>> reserves[0:3]\n",
    "['Dialga', 'Regigigas', 'Onix']"
   ]
  },
  {
   "cell_type": "code",
   "execution_count": 23,
   "metadata": {},
   "outputs": [
    {
     "name": "stdout",
     "output_type": "stream",
     "text": [
      "Sample parties at highest level\n",
      "\n",
      "['Charmander','Pidgey','Sandshrew', 'Rattata','Abra','Unown']\n",
      "['Charmander','Pidgey','Sandshrew', 'Rattata','Abra','Swablu']\n",
      "['Charmander','Pidgey','Sandshrew', 'Rattata','Abra','Slowpoke']\n"
     ]
    }
   ],
   "source": [
    "def create_party(party, candidates):\n",
    "    print(\"Sample parties at highest level\\n\")\n",
    "    print(\"['\"+party[0]+\"','\"+party[1]+\"','\"+party[2]+\"', '\"+party[3]+\"','\"+party[4]+\"','\"+candidates[-1][0]+\"']\")\n",
    "    print(\"['\"+party[0]+\"','\"+party[1]+\"','\"+party[2]+\"', '\"+party[3]+\"','\"+party[4]+\"','\"+candidates[-2][0]+\"']\")\n",
    "    print(\"['\"+party[0]+\"','\"+party[1]+\"','\"+party[2]+\"', '\"+party[3]+\"','\"+party[4]+\"','\"+candidates[-3][0]+\"']\")\n",
    "candidates = reserves\n",
    "create_party(party, candidates)\n",
    "            "
   ]
  },
  {
   "cell_type": "code",
   "execution_count": null,
   "metadata": {},
   "outputs": [],
   "source": []
  }
 ],
 "metadata": {
  "kernelspec": {
   "display_name": "Python 3",
   "language": "python",
   "name": "python3"
  },
  "language_info": {
   "codemirror_mode": {
    "name": "ipython",
    "version": 3
   },
   "file_extension": ".py",
   "mimetype": "text/x-python",
   "name": "python",
   "nbconvert_exporter": "python",
   "pygments_lexer": "ipython3",
   "version": "3.8.3"
  }
 },
 "nbformat": 4,
 "nbformat_minor": 4
}
