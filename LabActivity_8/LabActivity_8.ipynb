{
 "cells": [
  {
   "cell_type": "markdown",
   "metadata": {},
   "source": [
    "<h1>Linear Algebra (CpE210A)"
   ]
  },
  {
   "cell_type": "markdown",
   "metadata": {},
   "source": [
    "<h3>System of Linear Equations"
   ]
  },
  {
   "cell_type": "markdown",
   "metadata": {},
   "source": [
    "<h5>Coded and submitted by:<i>\n",
    "<h6>Nietes,Ralf Joshua M.<i>\n",
    "<h5>201811752<i>\n",
    "<h5>58011<i>"
   ]
  },
  {
   "cell_type": "markdown",
   "metadata": {},
   "source": [
    "### Problem\n",
    "Cinema 1 sold 24 tickets that have 12 adults and 12 children who attended. The gross sales for selling the tickets in Cinema 1 is PHP 5040. Cinema 2 sold 20 tickets that have 12 adults and 8 children who attended. The gross sales for sellingthe tickets in Cinema 2 is PHP 4240. Find how much does an adult ticket and children ticket cost."
   ]
  },
  {
   "cell_type": "code",
   "execution_count": 9,
   "metadata": {},
   "outputs": [],
   "source": [
    "import numpy as np\n",
    "import matplotlib.pyplot as plt\n",
    "%matplotlib inline"
   ]
  },
  {
   "cell_type": "code",
   "execution_count": 10,
   "metadata": {},
   "outputs": [],
   "source": [
    "audience_quantity = np.array([\n",
    "    [12,12],\n",
    "    [12,8],\n",
    " \n",
    "])\n",
    "   \n",
    "total_sales =np.array([\n",
    "    [5040],\n",
    "    [4240]   \n",
    "])"
   ]
  },
  {
   "cell_type": "code",
   "execution_count": 11,
   "metadata": {},
   "outputs": [
    {
     "name": "stdout",
     "output_type": "stream",
     "text": [
      "The ticket for adults is:PHP 220.00\n",
      "The ticket price for children is:PHP 200.00\n"
     ]
    }
   ],
   "source": [
    "ticket_price = np.linalg.inv(audience_quantity) @ total_sales \n",
    "print('The ticket for adults is:PHP {:.2f}'.format(float(ticket_price[0])))\n",
    "print('The ticket price for children is:PHP {:.2f}'.format(float(ticket_price[1])))"
   ]
  },
  {
   "cell_type": "code",
   "execution_count": 12,
   "metadata": {},
   "outputs": [
    {
     "name": "stdout",
     "output_type": "stream",
     "text": [
      "The ticket for adults is:PHP 220.00\n",
      "The ticket price for children is:PHP 200.00\n"
     ]
    }
   ],
   "source": [
    "prices = np.linalg.solve(audience_quantity,total_sales)\n",
    "print('The ticket for adults is:PHP {:.2f}'.format(float(ticket_price[0])))\n",
    "print('The ticket price for children is:PHP {:.2f}'.format(float(ticket_price[1])))"
   ]
  }
 ],
 "metadata": {
  "kernelspec": {
   "display_name": "Python 3",
   "language": "python",
   "name": "python3"
  },
  "language_info": {
   "codemirror_mode": {
    "name": "ipython",
    "version": 3
   },
   "file_extension": ".py",
   "mimetype": "text/x-python",
   "name": "python",
   "nbconvert_exporter": "python",
   "pygments_lexer": "ipython3",
   "version": "3.8.3"
  }
 },
 "nbformat": 4,
 "nbformat_minor": 4
}
